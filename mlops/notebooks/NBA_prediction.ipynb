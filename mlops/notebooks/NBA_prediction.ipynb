{
 "nbformat": 4,
 "nbformat_minor": 0,
 "metadata": {
  "colab": {
   "provenance": []
  },
  "kernelspec": {
   "name": "python3",
   "language": "python",
   "display_name": "Python 3 (ipykernel)"
  },
  "language_info": {
   "name": "python"
  }
 },
 "cells": [
  {
   "cell_type": "code",
   "execution_count": 16,
   "metadata": {
    "id": "TkbrDoTAwMrl",
    "ExecuteTime": {
     "end_time": "2023-07-07T07:42:25.581295500Z",
     "start_time": "2023-07-07T07:42:25.362194500Z"
    }
   },
   "outputs": [],
   "source": [
    "import pandas as pd\n",
    "pd.options.mode.chained_assignment = None\n",
    "\n",
    "player_pergame = pd.read_csv(\"../data/01_raw/Player Per Game.csv\")\n",
    "player_allstar = pd.read_csv(\"../data/01_raw/All-Star Selections.csv\")\n",
    "player_awards = pd.read_csv(\"../data/01_raw/Player Award Shares.csv\")\n",
    "team_stats = pd.read_csv(\"../data/01_raw/Team Summaries.csv\")\n",
    "advanced_stats = pd.read_csv(\"../data/01_raw/Advanced.csv\")"
   ]
  },
  {
   "cell_type": "code",
   "source": [
    "player_pergame"
   ],
   "metadata": {
    "colab": {
     "base_uri": "https://localhost:8080/",
     "height": 661
    },
    "id": "qwtjiMKtwTkA",
    "outputId": "1257c0ed-217b-4b4c-8bfc-9369c76b2c98",
    "ExecuteTime": {
     "end_time": "2023-07-07T07:42:25.628681500Z",
     "start_time": "2023-07-07T07:42:25.585297Z"
    }
   },
   "execution_count": 17,
   "outputs": [
    {
     "data": {
      "text/plain": "       seas_id  season  player_id          player  birth_year  pos   age  \\\n0        30458    2023       5025      A.J. Green         NaN   SG  23.0   \n1        30459    2023       5026     A.J. Lawson         NaN   SG  22.0   \n2        30460    2023       5026     A.J. Lawson         NaN   SG  22.0   \n3        30461    2023       5026     A.J. Lawson         NaN   SG  22.0   \n4        30462    2023       4219    Aaron Gordon         NaN   PF  27.0   \n...        ...     ...        ...             ...         ...  ...   ...   \n31130      200    1947        157     Walt Miller         NaN    F  31.0   \n31131      201    1947        158   Warren Fenley         NaN    F  24.0   \n31132      202    1947        159   Wilbert Kautz         NaN  G-F  31.0   \n31133      203    1947        160  Woody Grimshaw         NaN    G  27.0   \n31134      204    1947        161     Wyndol Gray         NaN  G-F  24.0   \n\n       experience   lg   tm  ...  ft_percent  orb_per_game  drb_per_game  \\\n0               1  NBA  MIL  ...       1.000           0.2           1.1   \n1               1  NBA  TOT  ...       0.250           0.4           1.0   \n2               1  NBA  MIN  ...         NaN           0.0           1.0   \n3               1  NBA  DAL  ...       0.250           0.4           1.0   \n4               9  NBA  DEN  ...       0.608           2.4           4.1   \n...           ...  ...  ...  ...         ...           ...           ...   \n31130           1  BAA  PIT  ...       0.500           NaN           NaN   \n31131           1  BAA  BOS  ...       0.511           NaN           NaN   \n31132           1  BAA  CHS  ...       0.534           NaN           NaN   \n31133           1  BAA  PRO  ...       0.477           NaN           NaN   \n31134           1  BAA  BOS  ...       0.581           NaN           NaN   \n\n       trb_per_game  ast_per_game  stl_per_game  blk_per_game  tov_per_game  \\\n0               1.3           0.6           0.2           0.0           0.3   \n1               1.4           0.1           0.1           0.0           0.2   \n2               1.0           0.0           0.0           0.0           0.0   \n3               1.4           0.1           0.1           0.0           0.2   \n4               6.6           3.0           0.8           0.8           1.4   \n...             ...           ...           ...           ...           ...   \n31130           NaN           0.5           NaN           NaN           NaN   \n31131           NaN           0.5           NaN           NaN           NaN   \n31132           NaN           0.7           NaN           NaN           NaN   \n31133           NaN           0.0           NaN           NaN           NaN   \n31134           NaN           0.9           NaN           NaN           NaN   \n\n       pf_per_game  pts_per_game  \n0              0.9           4.4  \n1              0.7           3.7  \n2              1.0           2.0  \n3              0.7           3.9  \n4              1.9          16.3  \n...            ...           ...  \n31130          1.3           1.9  \n31131          1.8           2.6  \n31132          2.3           5.1  \n31133          1.2           2.9  \n31134          1.9           6.4  \n\n[31135 rows x 35 columns]",
      "text/html": "<div>\n<style scoped>\n    .dataframe tbody tr th:only-of-type {\n        vertical-align: middle;\n    }\n\n    .dataframe tbody tr th {\n        vertical-align: top;\n    }\n\n    .dataframe thead th {\n        text-align: right;\n    }\n</style>\n<table border=\"1\" class=\"dataframe\">\n  <thead>\n    <tr style=\"text-align: right;\">\n      <th></th>\n      <th>seas_id</th>\n      <th>season</th>\n      <th>player_id</th>\n      <th>player</th>\n      <th>birth_year</th>\n      <th>pos</th>\n      <th>age</th>\n      <th>experience</th>\n      <th>lg</th>\n      <th>tm</th>\n      <th>...</th>\n      <th>ft_percent</th>\n      <th>orb_per_game</th>\n      <th>drb_per_game</th>\n      <th>trb_per_game</th>\n      <th>ast_per_game</th>\n      <th>stl_per_game</th>\n      <th>blk_per_game</th>\n      <th>tov_per_game</th>\n      <th>pf_per_game</th>\n      <th>pts_per_game</th>\n    </tr>\n  </thead>\n  <tbody>\n    <tr>\n      <th>0</th>\n      <td>30458</td>\n      <td>2023</td>\n      <td>5025</td>\n      <td>A.J. Green</td>\n      <td>NaN</td>\n      <td>SG</td>\n      <td>23.0</td>\n      <td>1</td>\n      <td>NBA</td>\n      <td>MIL</td>\n      <td>...</td>\n      <td>1.000</td>\n      <td>0.2</td>\n      <td>1.1</td>\n      <td>1.3</td>\n      <td>0.6</td>\n      <td>0.2</td>\n      <td>0.0</td>\n      <td>0.3</td>\n      <td>0.9</td>\n      <td>4.4</td>\n    </tr>\n    <tr>\n      <th>1</th>\n      <td>30459</td>\n      <td>2023</td>\n      <td>5026</td>\n      <td>A.J. Lawson</td>\n      <td>NaN</td>\n      <td>SG</td>\n      <td>22.0</td>\n      <td>1</td>\n      <td>NBA</td>\n      <td>TOT</td>\n      <td>...</td>\n      <td>0.250</td>\n      <td>0.4</td>\n      <td>1.0</td>\n      <td>1.4</td>\n      <td>0.1</td>\n      <td>0.1</td>\n      <td>0.0</td>\n      <td>0.2</td>\n      <td>0.7</td>\n      <td>3.7</td>\n    </tr>\n    <tr>\n      <th>2</th>\n      <td>30460</td>\n      <td>2023</td>\n      <td>5026</td>\n      <td>A.J. Lawson</td>\n      <td>NaN</td>\n      <td>SG</td>\n      <td>22.0</td>\n      <td>1</td>\n      <td>NBA</td>\n      <td>MIN</td>\n      <td>...</td>\n      <td>NaN</td>\n      <td>0.0</td>\n      <td>1.0</td>\n      <td>1.0</td>\n      <td>0.0</td>\n      <td>0.0</td>\n      <td>0.0</td>\n      <td>0.0</td>\n      <td>1.0</td>\n      <td>2.0</td>\n    </tr>\n    <tr>\n      <th>3</th>\n      <td>30461</td>\n      <td>2023</td>\n      <td>5026</td>\n      <td>A.J. Lawson</td>\n      <td>NaN</td>\n      <td>SG</td>\n      <td>22.0</td>\n      <td>1</td>\n      <td>NBA</td>\n      <td>DAL</td>\n      <td>...</td>\n      <td>0.250</td>\n      <td>0.4</td>\n      <td>1.0</td>\n      <td>1.4</td>\n      <td>0.1</td>\n      <td>0.1</td>\n      <td>0.0</td>\n      <td>0.2</td>\n      <td>0.7</td>\n      <td>3.9</td>\n    </tr>\n    <tr>\n      <th>4</th>\n      <td>30462</td>\n      <td>2023</td>\n      <td>4219</td>\n      <td>Aaron Gordon</td>\n      <td>NaN</td>\n      <td>PF</td>\n      <td>27.0</td>\n      <td>9</td>\n      <td>NBA</td>\n      <td>DEN</td>\n      <td>...</td>\n      <td>0.608</td>\n      <td>2.4</td>\n      <td>4.1</td>\n      <td>6.6</td>\n      <td>3.0</td>\n      <td>0.8</td>\n      <td>0.8</td>\n      <td>1.4</td>\n      <td>1.9</td>\n      <td>16.3</td>\n    </tr>\n    <tr>\n      <th>...</th>\n      <td>...</td>\n      <td>...</td>\n      <td>...</td>\n      <td>...</td>\n      <td>...</td>\n      <td>...</td>\n      <td>...</td>\n      <td>...</td>\n      <td>...</td>\n      <td>...</td>\n      <td>...</td>\n      <td>...</td>\n      <td>...</td>\n      <td>...</td>\n      <td>...</td>\n      <td>...</td>\n      <td>...</td>\n      <td>...</td>\n      <td>...</td>\n      <td>...</td>\n      <td>...</td>\n    </tr>\n    <tr>\n      <th>31130</th>\n      <td>200</td>\n      <td>1947</td>\n      <td>157</td>\n      <td>Walt Miller</td>\n      <td>NaN</td>\n      <td>F</td>\n      <td>31.0</td>\n      <td>1</td>\n      <td>BAA</td>\n      <td>PIT</td>\n      <td>...</td>\n      <td>0.500</td>\n      <td>NaN</td>\n      <td>NaN</td>\n      <td>NaN</td>\n      <td>0.5</td>\n      <td>NaN</td>\n      <td>NaN</td>\n      <td>NaN</td>\n      <td>1.3</td>\n      <td>1.9</td>\n    </tr>\n    <tr>\n      <th>31131</th>\n      <td>201</td>\n      <td>1947</td>\n      <td>158</td>\n      <td>Warren Fenley</td>\n      <td>NaN</td>\n      <td>F</td>\n      <td>24.0</td>\n      <td>1</td>\n      <td>BAA</td>\n      <td>BOS</td>\n      <td>...</td>\n      <td>0.511</td>\n      <td>NaN</td>\n      <td>NaN</td>\n      <td>NaN</td>\n      <td>0.5</td>\n      <td>NaN</td>\n      <td>NaN</td>\n      <td>NaN</td>\n      <td>1.8</td>\n      <td>2.6</td>\n    </tr>\n    <tr>\n      <th>31132</th>\n      <td>202</td>\n      <td>1947</td>\n      <td>159</td>\n      <td>Wilbert Kautz</td>\n      <td>NaN</td>\n      <td>G-F</td>\n      <td>31.0</td>\n      <td>1</td>\n      <td>BAA</td>\n      <td>CHS</td>\n      <td>...</td>\n      <td>0.534</td>\n      <td>NaN</td>\n      <td>NaN</td>\n      <td>NaN</td>\n      <td>0.7</td>\n      <td>NaN</td>\n      <td>NaN</td>\n      <td>NaN</td>\n      <td>2.3</td>\n      <td>5.1</td>\n    </tr>\n    <tr>\n      <th>31133</th>\n      <td>203</td>\n      <td>1947</td>\n      <td>160</td>\n      <td>Woody Grimshaw</td>\n      <td>NaN</td>\n      <td>G</td>\n      <td>27.0</td>\n      <td>1</td>\n      <td>BAA</td>\n      <td>PRO</td>\n      <td>...</td>\n      <td>0.477</td>\n      <td>NaN</td>\n      <td>NaN</td>\n      <td>NaN</td>\n      <td>0.0</td>\n      <td>NaN</td>\n      <td>NaN</td>\n      <td>NaN</td>\n      <td>1.2</td>\n      <td>2.9</td>\n    </tr>\n    <tr>\n      <th>31134</th>\n      <td>204</td>\n      <td>1947</td>\n      <td>161</td>\n      <td>Wyndol Gray</td>\n      <td>NaN</td>\n      <td>G-F</td>\n      <td>24.0</td>\n      <td>1</td>\n      <td>BAA</td>\n      <td>BOS</td>\n      <td>...</td>\n      <td>0.581</td>\n      <td>NaN</td>\n      <td>NaN</td>\n      <td>NaN</td>\n      <td>0.9</td>\n      <td>NaN</td>\n      <td>NaN</td>\n      <td>NaN</td>\n      <td>1.9</td>\n      <td>6.4</td>\n    </tr>\n  </tbody>\n</table>\n<p>31135 rows × 35 columns</p>\n</div>"
     },
     "execution_count": 17,
     "metadata": {},
     "output_type": "execute_result"
    }
   ]
  },
  {
   "cell_type": "markdown",
   "source": [
    "###Cleaning"
   ],
   "metadata": {
    "id": "SmVBFtmGxEoa"
   }
  },
  {
   "cell_type": "code",
   "source": [
    "# Adding a column to indicate whether a player was an all-star in that season.\n",
    "player_pergame[\"all_star\"] = False\n",
    "star_season = []\n",
    "for i in range(len(player_allstar)):\n",
    "    star = player_allstar.at[i,'player']\n",
    "    season = player_allstar.at[i,'season']\n",
    "    star_season.append([star,season])\n",
    "\n",
    "for i in range(len(player_pergame)):\n",
    "    player = player_pergame.at[i,'player']\n",
    "    season = player_pergame.at[i,'season']\n",
    "    player_season = [player,season]\n",
    "    if player_season in star_season:\n",
    "        player_pergame.at[i,'all_star'] = True"
   ],
   "metadata": {
    "id": "1jfB7gCDwT_B",
    "ExecuteTime": {
     "end_time": "2023-07-07T07:42:27.146938200Z",
     "start_time": "2023-07-07T07:42:25.646659100Z"
    }
   },
   "execution_count": 18,
   "outputs": []
  },
  {
   "cell_type": "code",
   "source": [
    "# Adding column for winning percentage.\n",
    "team_stats['win_perc'] = team_stats.apply(lambda x: x['w'] / (x['w'] + x['l']), axis=1)\n",
    "team_stats = team_stats[['season','abbreviation','win_perc','w','l']]\n",
    "team_player_stats = pd.merge(player_pergame, team_stats,  how='left', left_on=['season','tm'], right_on = ['season','abbreviation'])"
   ],
   "metadata": {
    "id": "pe-UTZquwoYk",
    "ExecuteTime": {
     "end_time": "2023-07-07T07:42:27.210266500Z",
     "start_time": "2023-07-07T07:42:27.147927Z"
    }
   },
   "execution_count": 19,
   "outputs": []
  },
  {
   "cell_type": "code",
   "source": [
    "# Removing all data prior to 1980.\n",
    "data_modern = team_player_stats[team_player_stats['season'] >= 1980]\n",
    "data_modern.describe()"
   ],
   "metadata": {
    "colab": {
     "base_uri": "https://localhost:8080/",
     "height": 394
    },
    "id": "aswf7rHywuaP",
    "outputId": "c15c1633-ffb9-4a5c-c591-4f25900012b4",
    "ExecuteTime": {
     "end_time": "2023-07-07T07:42:27.303427700Z",
     "start_time": "2023-07-07T07:42:27.214274700Z"
    }
   },
   "execution_count": 20,
   "outputs": [
    {
     "data": {
      "text/plain": "            seas_id        season     player_id   birth_year           age  \\\ncount  23145.000000  23145.000000  23145.000000   621.000000  23145.000000   \nmean   19563.000000   2003.968157   3187.125081  1962.384863     26.688226   \nstd     6681.530326     12.461911    893.880944    13.215766      4.036304   \nmin     7991.000000   1980.000000    834.000000  1944.000000     18.000000   \n25%    13777.000000   1994.000000   2450.000000  1952.000000     24.000000   \n50%    19563.000000   2005.000000   3186.000000  1957.000000     26.000000   \n75%    25349.000000   2015.000000   3888.000000  1973.000000     29.000000   \nmax    31135.000000   2023.000000   5108.000000  2002.000000     44.000000   \n\n         experience             g            gs   mp_per_game   fg_per_game  \\\ncount  23145.000000  23145.000000  22472.000000  23145.000000  23145.000000   \nmean       5.402074     47.918773     22.636525     19.771022      3.063897   \nstd        3.892215     26.656619     27.988463     10.069756      2.238885   \nmin        1.000000      1.000000      0.000000      0.000000      0.000000   \n25%        2.000000     24.000000      0.000000     11.400000      1.300000   \n50%        4.000000     52.000000      7.000000     19.000000      2.500000   \n75%        8.000000     73.000000     42.000000     28.000000      4.400000   \nmax       22.000000     85.000000     83.000000     44.500000     13.400000   \n\n       ...  trb_per_game  ast_per_game  stl_per_game  blk_per_game  \\\ncount  ...  23145.000000  23145.000000  23145.000000  23145.000000   \nmean   ...      3.466502      1.852093      0.650607      0.401158   \nstd    ...      2.509957      1.833922      0.469532      0.490268   \nmin    ...      0.000000      0.000000      0.000000      0.000000   \n25%    ...      1.600000      0.600000      0.300000      0.100000   \n50%    ...      2.800000      1.300000      0.600000      0.200000   \n75%    ...      4.600000      2.500000      0.900000      0.500000   \nmax    ...     18.700000     14.500000      3.700000      6.000000   \n\n       tov_per_game   pf_per_game  pts_per_game      win_perc             w  \\\ncount  23145.000000  23145.000000  23145.000000  21058.000000  21058.000000   \nmean       1.217218      1.880035      8.099412      0.492991     39.580302   \nstd        0.820971      0.871420      5.995677      0.153660     12.708757   \nmin        0.000000      0.000000      0.000000      0.106061      7.000000   \n25%        0.600000      1.200000      3.400000      0.378049     30.000000   \n50%        1.000000      1.900000      6.600000      0.500000     41.000000   \n75%        1.700000      2.500000     11.500000      0.609756     49.000000   \nmax        5.700000      6.000000     37.100000      0.890244     73.000000   \n\n                  l  \ncount  21058.000000  \nmean      40.688005  \nstd       12.685057  \nmin        9.000000  \n25%       31.000000  \n50%       40.000000  \n75%       50.000000  \nmax       72.000000  \n\n[8 rows x 34 columns]",
      "text/html": "<div>\n<style scoped>\n    .dataframe tbody tr th:only-of-type {\n        vertical-align: middle;\n    }\n\n    .dataframe tbody tr th {\n        vertical-align: top;\n    }\n\n    .dataframe thead th {\n        text-align: right;\n    }\n</style>\n<table border=\"1\" class=\"dataframe\">\n  <thead>\n    <tr style=\"text-align: right;\">\n      <th></th>\n      <th>seas_id</th>\n      <th>season</th>\n      <th>player_id</th>\n      <th>birth_year</th>\n      <th>age</th>\n      <th>experience</th>\n      <th>g</th>\n      <th>gs</th>\n      <th>mp_per_game</th>\n      <th>fg_per_game</th>\n      <th>...</th>\n      <th>trb_per_game</th>\n      <th>ast_per_game</th>\n      <th>stl_per_game</th>\n      <th>blk_per_game</th>\n      <th>tov_per_game</th>\n      <th>pf_per_game</th>\n      <th>pts_per_game</th>\n      <th>win_perc</th>\n      <th>w</th>\n      <th>l</th>\n    </tr>\n  </thead>\n  <tbody>\n    <tr>\n      <th>count</th>\n      <td>23145.000000</td>\n      <td>23145.000000</td>\n      <td>23145.000000</td>\n      <td>621.000000</td>\n      <td>23145.000000</td>\n      <td>23145.000000</td>\n      <td>23145.000000</td>\n      <td>22472.000000</td>\n      <td>23145.000000</td>\n      <td>23145.000000</td>\n      <td>...</td>\n      <td>23145.000000</td>\n      <td>23145.000000</td>\n      <td>23145.000000</td>\n      <td>23145.000000</td>\n      <td>23145.000000</td>\n      <td>23145.000000</td>\n      <td>23145.000000</td>\n      <td>21058.000000</td>\n      <td>21058.000000</td>\n      <td>21058.000000</td>\n    </tr>\n    <tr>\n      <th>mean</th>\n      <td>19563.000000</td>\n      <td>2003.968157</td>\n      <td>3187.125081</td>\n      <td>1962.384863</td>\n      <td>26.688226</td>\n      <td>5.402074</td>\n      <td>47.918773</td>\n      <td>22.636525</td>\n      <td>19.771022</td>\n      <td>3.063897</td>\n      <td>...</td>\n      <td>3.466502</td>\n      <td>1.852093</td>\n      <td>0.650607</td>\n      <td>0.401158</td>\n      <td>1.217218</td>\n      <td>1.880035</td>\n      <td>8.099412</td>\n      <td>0.492991</td>\n      <td>39.580302</td>\n      <td>40.688005</td>\n    </tr>\n    <tr>\n      <th>std</th>\n      <td>6681.530326</td>\n      <td>12.461911</td>\n      <td>893.880944</td>\n      <td>13.215766</td>\n      <td>4.036304</td>\n      <td>3.892215</td>\n      <td>26.656619</td>\n      <td>27.988463</td>\n      <td>10.069756</td>\n      <td>2.238885</td>\n      <td>...</td>\n      <td>2.509957</td>\n      <td>1.833922</td>\n      <td>0.469532</td>\n      <td>0.490268</td>\n      <td>0.820971</td>\n      <td>0.871420</td>\n      <td>5.995677</td>\n      <td>0.153660</td>\n      <td>12.708757</td>\n      <td>12.685057</td>\n    </tr>\n    <tr>\n      <th>min</th>\n      <td>7991.000000</td>\n      <td>1980.000000</td>\n      <td>834.000000</td>\n      <td>1944.000000</td>\n      <td>18.000000</td>\n      <td>1.000000</td>\n      <td>1.000000</td>\n      <td>0.000000</td>\n      <td>0.000000</td>\n      <td>0.000000</td>\n      <td>...</td>\n      <td>0.000000</td>\n      <td>0.000000</td>\n      <td>0.000000</td>\n      <td>0.000000</td>\n      <td>0.000000</td>\n      <td>0.000000</td>\n      <td>0.000000</td>\n      <td>0.106061</td>\n      <td>7.000000</td>\n      <td>9.000000</td>\n    </tr>\n    <tr>\n      <th>25%</th>\n      <td>13777.000000</td>\n      <td>1994.000000</td>\n      <td>2450.000000</td>\n      <td>1952.000000</td>\n      <td>24.000000</td>\n      <td>2.000000</td>\n      <td>24.000000</td>\n      <td>0.000000</td>\n      <td>11.400000</td>\n      <td>1.300000</td>\n      <td>...</td>\n      <td>1.600000</td>\n      <td>0.600000</td>\n      <td>0.300000</td>\n      <td>0.100000</td>\n      <td>0.600000</td>\n      <td>1.200000</td>\n      <td>3.400000</td>\n      <td>0.378049</td>\n      <td>30.000000</td>\n      <td>31.000000</td>\n    </tr>\n    <tr>\n      <th>50%</th>\n      <td>19563.000000</td>\n      <td>2005.000000</td>\n      <td>3186.000000</td>\n      <td>1957.000000</td>\n      <td>26.000000</td>\n      <td>4.000000</td>\n      <td>52.000000</td>\n      <td>7.000000</td>\n      <td>19.000000</td>\n      <td>2.500000</td>\n      <td>...</td>\n      <td>2.800000</td>\n      <td>1.300000</td>\n      <td>0.600000</td>\n      <td>0.200000</td>\n      <td>1.000000</td>\n      <td>1.900000</td>\n      <td>6.600000</td>\n      <td>0.500000</td>\n      <td>41.000000</td>\n      <td>40.000000</td>\n    </tr>\n    <tr>\n      <th>75%</th>\n      <td>25349.000000</td>\n      <td>2015.000000</td>\n      <td>3888.000000</td>\n      <td>1973.000000</td>\n      <td>29.000000</td>\n      <td>8.000000</td>\n      <td>73.000000</td>\n      <td>42.000000</td>\n      <td>28.000000</td>\n      <td>4.400000</td>\n      <td>...</td>\n      <td>4.600000</td>\n      <td>2.500000</td>\n      <td>0.900000</td>\n      <td>0.500000</td>\n      <td>1.700000</td>\n      <td>2.500000</td>\n      <td>11.500000</td>\n      <td>0.609756</td>\n      <td>49.000000</td>\n      <td>50.000000</td>\n    </tr>\n    <tr>\n      <th>max</th>\n      <td>31135.000000</td>\n      <td>2023.000000</td>\n      <td>5108.000000</td>\n      <td>2002.000000</td>\n      <td>44.000000</td>\n      <td>22.000000</td>\n      <td>85.000000</td>\n      <td>83.000000</td>\n      <td>44.500000</td>\n      <td>13.400000</td>\n      <td>...</td>\n      <td>18.700000</td>\n      <td>14.500000</td>\n      <td>3.700000</td>\n      <td>6.000000</td>\n      <td>5.700000</td>\n      <td>6.000000</td>\n      <td>37.100000</td>\n      <td>0.890244</td>\n      <td>73.000000</td>\n      <td>72.000000</td>\n    </tr>\n  </tbody>\n</table>\n<p>8 rows × 34 columns</p>\n</div>"
     },
     "execution_count": 20,
     "metadata": {},
     "output_type": "execute_result"
    }
   ]
  },
  {
   "cell_type": "code",
   "source": [
    "# Reformatting data so that the index is the player ID and season and dealing with missing data due to combining datasets.\n",
    "data_modern.loc[:]['season'] = pd.Categorical(data_modern['season'])\n",
    "data_modern = data_modern[data_modern['win_perc'].notna()]\n",
    "data_modern = data_modern[data_modern['abbreviation'].notna()]\n",
    "data_modern"
   ],
   "metadata": {
    "colab": {
     "base_uri": "https://localhost:8080/",
     "height": 661
    },
    "id": "66W7N4GLw49R",
    "outputId": "8dc3675b-5d58-4172-84db-4d8bb8353b42",
    "ExecuteTime": {
     "end_time": "2023-07-07T07:42:27.411090900Z",
     "start_time": "2023-07-07T07:42:27.306415600Z"
    }
   },
   "execution_count": 21,
   "outputs": [
    {
     "data": {
      "text/plain": "       seas_id  season  player_id          player  birth_year pos   age  \\\n0        30458    2023       5025      A.J. Green         NaN  SG  23.0   \n2        30460    2023       5026     A.J. Lawson         NaN  SG  22.0   \n3        30461    2023       5026     A.J. Lawson         NaN  SG  22.0   \n4        30462    2023       4219    Aaron Gordon         NaN  PF  27.0   \n5        30463    2023       4582   Aaron Holiday         NaN  PG  26.0   \n...        ...     ...        ...             ...         ...  ..   ...   \n23140     8343    1980       1155      Wes Unseld         NaN   C  33.0   \n23141     8344    1980       1897      Wiley Peck         NaN  SF  22.0   \n23142     8345    1980       1734    Willie Smith         NaN  PG  26.0   \n23143     8346    1980       1844  Winford Boynes         NaN  SG  22.0   \n23144     8347    1980       1691   World B. Free         NaN  SG  26.0   \n\n       experience   lg   tm  ...  stl_per_game  blk_per_game  tov_per_game  \\\n0               1  NBA  MIL  ...           0.2           0.0           0.3   \n2               1  NBA  MIN  ...           0.0           0.0           0.0   \n3               1  NBA  DAL  ...           0.1           0.0           0.2   \n4               9  NBA  DEN  ...           0.8           0.8           1.4   \n5               5  NBA  ATL  ...           0.6           0.2           0.6   \n...           ...  ...  ...  ...           ...           ...           ...   \n23140          12  NBA  WSB  ...           0.8           0.7           1.9   \n23141           1  NBA  SAS  ...           0.3           0.4           0.9   \n23142           4  NBA  CLE  ...           1.2           0.0           1.5   \n23143           2  NBA  NJN  ...           0.9           0.3           1.5   \n23144           5  NBA  SDC  ...           1.2           0.5           3.4   \n\n       pf_per_game  pts_per_game  all_star  abbreviation  win_perc     w     l  \n0              0.9           4.4     False           MIL  0.707317  58.0  24.0  \n2              1.0           2.0     False           MIN  0.512195  42.0  40.0  \n3              0.7           3.9     False           DAL  0.463415  38.0  44.0  \n4              1.9          16.3     False           DEN  0.646341  53.0  29.0  \n5              1.3           3.9     False           ATL  0.500000  41.0  41.0  \n...            ...           ...       ...           ...       ...   ...   ...  \n23140          3.0           9.7     False           WSB  0.475610  39.0  43.0  \n23141          1.9           3.5     False           SAS  0.500000  41.0  41.0  \n23142          1.8           4.8     False           CLE  0.451220  37.0  45.0  \n23143          2.1           8.5     False           NJN  0.414634  34.0  48.0  \n23144          2.9          30.2      True           SDC  0.426829  35.0  47.0  \n\n[21058 rows x 40 columns]",
      "text/html": "<div>\n<style scoped>\n    .dataframe tbody tr th:only-of-type {\n        vertical-align: middle;\n    }\n\n    .dataframe tbody tr th {\n        vertical-align: top;\n    }\n\n    .dataframe thead th {\n        text-align: right;\n    }\n</style>\n<table border=\"1\" class=\"dataframe\">\n  <thead>\n    <tr style=\"text-align: right;\">\n      <th></th>\n      <th>seas_id</th>\n      <th>season</th>\n      <th>player_id</th>\n      <th>player</th>\n      <th>birth_year</th>\n      <th>pos</th>\n      <th>age</th>\n      <th>experience</th>\n      <th>lg</th>\n      <th>tm</th>\n      <th>...</th>\n      <th>stl_per_game</th>\n      <th>blk_per_game</th>\n      <th>tov_per_game</th>\n      <th>pf_per_game</th>\n      <th>pts_per_game</th>\n      <th>all_star</th>\n      <th>abbreviation</th>\n      <th>win_perc</th>\n      <th>w</th>\n      <th>l</th>\n    </tr>\n  </thead>\n  <tbody>\n    <tr>\n      <th>0</th>\n      <td>30458</td>\n      <td>2023</td>\n      <td>5025</td>\n      <td>A.J. Green</td>\n      <td>NaN</td>\n      <td>SG</td>\n      <td>23.0</td>\n      <td>1</td>\n      <td>NBA</td>\n      <td>MIL</td>\n      <td>...</td>\n      <td>0.2</td>\n      <td>0.0</td>\n      <td>0.3</td>\n      <td>0.9</td>\n      <td>4.4</td>\n      <td>False</td>\n      <td>MIL</td>\n      <td>0.707317</td>\n      <td>58.0</td>\n      <td>24.0</td>\n    </tr>\n    <tr>\n      <th>2</th>\n      <td>30460</td>\n      <td>2023</td>\n      <td>5026</td>\n      <td>A.J. Lawson</td>\n      <td>NaN</td>\n      <td>SG</td>\n      <td>22.0</td>\n      <td>1</td>\n      <td>NBA</td>\n      <td>MIN</td>\n      <td>...</td>\n      <td>0.0</td>\n      <td>0.0</td>\n      <td>0.0</td>\n      <td>1.0</td>\n      <td>2.0</td>\n      <td>False</td>\n      <td>MIN</td>\n      <td>0.512195</td>\n      <td>42.0</td>\n      <td>40.0</td>\n    </tr>\n    <tr>\n      <th>3</th>\n      <td>30461</td>\n      <td>2023</td>\n      <td>5026</td>\n      <td>A.J. Lawson</td>\n      <td>NaN</td>\n      <td>SG</td>\n      <td>22.0</td>\n      <td>1</td>\n      <td>NBA</td>\n      <td>DAL</td>\n      <td>...</td>\n      <td>0.1</td>\n      <td>0.0</td>\n      <td>0.2</td>\n      <td>0.7</td>\n      <td>3.9</td>\n      <td>False</td>\n      <td>DAL</td>\n      <td>0.463415</td>\n      <td>38.0</td>\n      <td>44.0</td>\n    </tr>\n    <tr>\n      <th>4</th>\n      <td>30462</td>\n      <td>2023</td>\n      <td>4219</td>\n      <td>Aaron Gordon</td>\n      <td>NaN</td>\n      <td>PF</td>\n      <td>27.0</td>\n      <td>9</td>\n      <td>NBA</td>\n      <td>DEN</td>\n      <td>...</td>\n      <td>0.8</td>\n      <td>0.8</td>\n      <td>1.4</td>\n      <td>1.9</td>\n      <td>16.3</td>\n      <td>False</td>\n      <td>DEN</td>\n      <td>0.646341</td>\n      <td>53.0</td>\n      <td>29.0</td>\n    </tr>\n    <tr>\n      <th>5</th>\n      <td>30463</td>\n      <td>2023</td>\n      <td>4582</td>\n      <td>Aaron Holiday</td>\n      <td>NaN</td>\n      <td>PG</td>\n      <td>26.0</td>\n      <td>5</td>\n      <td>NBA</td>\n      <td>ATL</td>\n      <td>...</td>\n      <td>0.6</td>\n      <td>0.2</td>\n      <td>0.6</td>\n      <td>1.3</td>\n      <td>3.9</td>\n      <td>False</td>\n      <td>ATL</td>\n      <td>0.500000</td>\n      <td>41.0</td>\n      <td>41.0</td>\n    </tr>\n    <tr>\n      <th>...</th>\n      <td>...</td>\n      <td>...</td>\n      <td>...</td>\n      <td>...</td>\n      <td>...</td>\n      <td>...</td>\n      <td>...</td>\n      <td>...</td>\n      <td>...</td>\n      <td>...</td>\n      <td>...</td>\n      <td>...</td>\n      <td>...</td>\n      <td>...</td>\n      <td>...</td>\n      <td>...</td>\n      <td>...</td>\n      <td>...</td>\n      <td>...</td>\n      <td>...</td>\n      <td>...</td>\n    </tr>\n    <tr>\n      <th>23140</th>\n      <td>8343</td>\n      <td>1980</td>\n      <td>1155</td>\n      <td>Wes Unseld</td>\n      <td>NaN</td>\n      <td>C</td>\n      <td>33.0</td>\n      <td>12</td>\n      <td>NBA</td>\n      <td>WSB</td>\n      <td>...</td>\n      <td>0.8</td>\n      <td>0.7</td>\n      <td>1.9</td>\n      <td>3.0</td>\n      <td>9.7</td>\n      <td>False</td>\n      <td>WSB</td>\n      <td>0.475610</td>\n      <td>39.0</td>\n      <td>43.0</td>\n    </tr>\n    <tr>\n      <th>23141</th>\n      <td>8344</td>\n      <td>1980</td>\n      <td>1897</td>\n      <td>Wiley Peck</td>\n      <td>NaN</td>\n      <td>SF</td>\n      <td>22.0</td>\n      <td>1</td>\n      <td>NBA</td>\n      <td>SAS</td>\n      <td>...</td>\n      <td>0.3</td>\n      <td>0.4</td>\n      <td>0.9</td>\n      <td>1.9</td>\n      <td>3.5</td>\n      <td>False</td>\n      <td>SAS</td>\n      <td>0.500000</td>\n      <td>41.0</td>\n      <td>41.0</td>\n    </tr>\n    <tr>\n      <th>23142</th>\n      <td>8345</td>\n      <td>1980</td>\n      <td>1734</td>\n      <td>Willie Smith</td>\n      <td>NaN</td>\n      <td>PG</td>\n      <td>26.0</td>\n      <td>4</td>\n      <td>NBA</td>\n      <td>CLE</td>\n      <td>...</td>\n      <td>1.2</td>\n      <td>0.0</td>\n      <td>1.5</td>\n      <td>1.8</td>\n      <td>4.8</td>\n      <td>False</td>\n      <td>CLE</td>\n      <td>0.451220</td>\n      <td>37.0</td>\n      <td>45.0</td>\n    </tr>\n    <tr>\n      <th>23143</th>\n      <td>8346</td>\n      <td>1980</td>\n      <td>1844</td>\n      <td>Winford Boynes</td>\n      <td>NaN</td>\n      <td>SG</td>\n      <td>22.0</td>\n      <td>2</td>\n      <td>NBA</td>\n      <td>NJN</td>\n      <td>...</td>\n      <td>0.9</td>\n      <td>0.3</td>\n      <td>1.5</td>\n      <td>2.1</td>\n      <td>8.5</td>\n      <td>False</td>\n      <td>NJN</td>\n      <td>0.414634</td>\n      <td>34.0</td>\n      <td>48.0</td>\n    </tr>\n    <tr>\n      <th>23144</th>\n      <td>8347</td>\n      <td>1980</td>\n      <td>1691</td>\n      <td>World B. Free</td>\n      <td>NaN</td>\n      <td>SG</td>\n      <td>26.0</td>\n      <td>5</td>\n      <td>NBA</td>\n      <td>SDC</td>\n      <td>...</td>\n      <td>1.2</td>\n      <td>0.5</td>\n      <td>3.4</td>\n      <td>2.9</td>\n      <td>30.2</td>\n      <td>True</td>\n      <td>SDC</td>\n      <td>0.426829</td>\n      <td>35.0</td>\n      <td>47.0</td>\n    </tr>\n  </tbody>\n</table>\n<p>21058 rows × 40 columns</p>\n</div>"
     },
     "execution_count": 21,
     "metadata": {},
     "output_type": "execute_result"
    }
   ]
  },
  {
   "cell_type": "code",
   "source": [
    "# Adding column to indicate what conference a player is in.\n",
    "east = ['MIL', 'TOT','ATL', 'IND','ORL',\n",
    "       'BOS', 'DET', 'CHI', 'BRK','WAS', 'MIA','CHO','NYK',\n",
    "       'CLE', 'TOR','PHI', 'CHA', 'NJN', 'CHH','WSB', 'KCK', ]\n",
    "west = ['MIN', 'DAL', 'DEN','OKC','SAC', 'SAS', 'HOU', 'LAC', 'GSW',\n",
    "       'POR', 'LAL','PHO', 'MEM', 'NOP','UTA','NOH','SEA','NOK', 'VAN','SDC']\n",
    "\n",
    "data_modern['conf'] = 'east'\n",
    "for index, row in data_modern.iterrows():\n",
    "    team = row['tm']\n",
    "    if team in west:\n",
    "        data_modern.at[index,'conf'] = 'west'\n",
    "\n",
    "# f = open(\"../data/03_primary/primary.csv\", \"a\")\n",
    "# f.write(data_modern.to_csv())\n",
    "# f.close()\n"
   ],
   "metadata": {
    "id": "VH8N-XDRw-CS",
    "ExecuteTime": {
     "end_time": "2023-07-07T07:42:28.279076500Z",
     "start_time": "2023-07-07T07:42:27.356420600Z"
    }
   },
   "execution_count": 22,
   "outputs": []
  },
  {
   "cell_type": "code",
   "source": [
    "# Creating a column to indicate the percentage of games a player played.\n",
    "data_modern['total_games'] = data_modern.apply(lambda x: x['w'] + x['l'], axis=1)\n",
    "data_modern['games_pct'] = data_modern.apply(lambda x: x['g'] / x['total_games'], axis=1)"
   ],
   "metadata": {
    "id": "r60geJ8mxIrH",
    "ExecuteTime": {
     "end_time": "2023-07-07T07:42:28.704886500Z",
     "start_time": "2023-07-07T07:42:28.296582Z"
    }
   },
   "execution_count": 23,
   "outputs": []
  },
  {
   "cell_type": "code",
   "source": [
    "# Missing data will be filled in with the median in the column. Also removing the 2023 season for testing purposes.\n",
    "data_model1 = data_modern.copy()\n",
    "data_model1 = data_model1[data_model1['season'] != 2023]\n",
    "data_model1 = data_model1.fillna(data_model1.median(numeric_only=True))"
   ],
   "metadata": {
    "id": "AzzE77jyxSKn",
    "ExecuteTime": {
     "end_time": "2023-07-07T07:42:28.739885800Z",
     "start_time": "2023-07-07T07:42:28.707885400Z"
    }
   },
   "execution_count": 24,
   "outputs": []
  },
  {
   "cell_type": "markdown",
   "source": [
    "###Model training"
   ],
   "metadata": {
    "collapsed": false
   }
  },
  {
   "cell_type": "code",
   "source": [
    "from sklearn.linear_model import LogisticRegression\n",
    "from sklearn.pipeline import Pipeline\n",
    "from sklearn.preprocessing import StandardScaler, OneHotEncoder\n",
    "from sklearn.compose import make_column_transformer\n",
    "\n",
    "def transform(x_cols):\n",
    "    return make_column_transformer(\n",
    "                (OneHotEncoder(), ['pos']),\n",
    "                (StandardScaler(), x_cols[1:]), # Everything except for 'pos'\n",
    "    )\n"
   ],
   "metadata": {
    "id": "RtpoTNuCxXuv",
    "ExecuteTime": {
     "end_time": "2023-07-07T07:42:29.510900900Z",
     "start_time": "2023-07-07T07:42:28.738885Z"
    }
   },
   "execution_count": 25,
   "outputs": []
  },
  {
   "cell_type": "code",
   "source": [
    "import random\n",
    "\n",
    "def get_train_test(data, test_size):\n",
    "    global train\n",
    "    global test\n",
    "    train_years = list(range(1980,2023))\n",
    "    test_years = []\n",
    "    for i in range(test_size):\n",
    "        year = random.choice(train_years)\n",
    "        train_years.remove(year)\n",
    "        test_years.append(year)\n",
    "\n",
    "    train = data.loc[data['season'].isin(train_years)]\n",
    "    test = data.loc[data['season'].isin(test_years)]\n",
    "\n",
    "    print(\"Test Seasons:\")\n",
    "    print(test_years)\n",
    "\n",
    "get_train_test(data_model1, 6)\n"
   ],
   "metadata": {
    "colab": {
     "base_uri": "https://localhost:8080/"
    },
    "id": "D2Xt3eh6xcjN",
    "outputId": "0e983c11-940d-4973-e68d-8acb9e6695da",
    "ExecuteTime": {
     "end_time": "2023-07-07T07:42:29.526891100Z",
     "start_time": "2023-07-07T07:42:29.514898400Z"
    }
   },
   "execution_count": 26,
   "outputs": [
    {
     "name": "stdout",
     "output_type": "stream",
     "text": [
      "Test Seasons:\n",
      "[2001, 1991, 2009, 2006, 2020, 2008]\n"
     ]
    }
   ]
  },
  {
   "cell_type": "code",
   "source": [
    "# Fitting and scoring the logistic regression model.\n",
    "x_cols = [\"pos\", \"experience\", \"games_pct\", \"e_fg_percent\", \"ft_percent\", \"orb_per_game\",\"drb_per_game\", \"trb_per_game\",\n",
    "         \"ast_per_game\", \"stl_per_game\", \"blk_per_game\", \"tov_per_game\", \"pf_per_game\",\"pts_per_game\", \"win_perc\",\n",
    "         \"ft_per_game\"]\n",
    "trans = transform(x_cols)\n",
    "\n",
    "y_col = \"all_star\"\n",
    "\n",
    "model = Pipeline([\n",
    "            (\"tr\", trans),\n",
    "            (\"lr\", LogisticRegression(fit_intercept = False, max_iter = 1000)),\n",
    "        ])\n",
    "\n",
    "model.fit(train[x_cols], train[y_col])\n",
    "model.score(test[x_cols], test[y_col])"
   ],
   "metadata": {
    "colab": {
     "base_uri": "https://localhost:8080/"
    },
    "id": "1LUMIXIyxid-",
    "outputId": "434ac669-af71-473d-f43d-16e0530c85a9",
    "ExecuteTime": {
     "end_time": "2023-07-07T07:42:29.621459Z",
     "start_time": "2023-07-07T07:42:29.530888300Z"
    }
   },
   "execution_count": 27,
   "outputs": [
    {
     "data": {
      "text/plain": "0.9757377049180328"
     },
     "execution_count": 27,
     "metadata": {},
     "output_type": "execute_result"
    }
   ]
  },
  {
   "cell_type": "markdown",
   "source": [
    "###Prediction"
   ],
   "metadata": {
    "collapsed": false
   }
  },
  {
   "cell_type": "code",
   "source": [
    "import numpy as np\n",
    "\n",
    "def rank_predict(test, model):\n",
    "    test[\"prob_all_star\"] = model.predict_proba(test[x_cols])[:, 1]\n",
    "    test['rank'] = test.groupby(['season','conf'])['prob_all_star'].rank(ascending=False)\n",
    "    test['pred_all_star'] = np.where(  (test['rank'] <= 12.0 ), True, False)\n",
    "\n",
    "rank_predict(test, model)"
   ],
   "metadata": {
    "id": "n_JXoRIVzJNm",
    "ExecuteTime": {
     "end_time": "2023-07-07T07:42:29.655454700Z",
     "start_time": "2023-07-07T07:42:29.627466900Z"
    }
   },
   "execution_count": 28,
   "outputs": []
  },
  {
   "cell_type": "code",
   "source": [
    "finalmodel = Pipeline([\n",
    "            (\"tr\", trans),\n",
    "            (\"lr\", LogisticRegression(fit_intercept = False, max_iter = 1000, C = 0.5455594781168515, class_weight = \"balanced\")),\n",
    "        ])\n",
    "data_modern = data_modern.fillna(data_modern.median(numeric_only=True))\n",
    "train = data_modern[data_modern['season'] != 2023]\n",
    "test = data_modern[data_modern['season'] == 2023]\n",
    "finalmodel.fit(train[x_cols], train[y_col])\n",
    "rank_predict(test, finalmodel)"
   ],
   "metadata": {
    "id": "yn7dH5T305Qc",
    "ExecuteTime": {
     "end_time": "2023-07-07T07:42:29.763007800Z",
     "start_time": "2023-07-07T07:42:29.641464800Z"
    }
   },
   "execution_count": 29,
   "outputs": []
  },
  {
   "cell_type": "code",
   "source": [
    "test['rank'] = test['rank'].astype(int)\n",
    "print(\"2023 ALL-STAR PREDICTIONS:\")\n",
    "print(\"Eastern Conference:\")\n",
    "print((test[(test[\"pred_all_star\"] == True) & (test[\"conf\"] == 'east')].sort_values('rank')[['player','rank']]).to_string(index=False))\n",
    "print()\n",
    "print(\"Western Conference:\")\n",
    "print((test[(test[\"pred_all_star\"] == True) & (test[\"conf\"] == 'west')].sort_values('rank')[['player','rank']]).to_string(index=False))"
   ],
   "metadata": {
    "colab": {
     "base_uri": "https://localhost:8080/"
    },
    "id": "fTlKlSg90scr",
    "outputId": "c9ccbce5-ee1c-472d-ef49-79f40f720c58",
    "ExecuteTime": {
     "end_time": "2023-07-07T07:42:29.779025800Z",
     "start_time": "2023-07-07T07:42:29.766008200Z"
    }
   },
   "execution_count": 30,
   "outputs": [
    {
     "name": "stdout",
     "output_type": "stream",
     "text": [
      "2023 ALL-STAR PREDICTIONS:\n",
      "Eastern Conference:\n",
      "               player  rank\n",
      "          Joel Embiid     1\n",
      "Giannis Antetokounmpo     2\n",
      "         Jayson Tatum     3\n",
      "         Kevin Durant     4\n",
      "         James Harden     5\n",
      "           Trae Young     6\n",
      "     Donovan Mitchell     7\n",
      "         Jimmy Butler     8\n",
      "         Kyrie Irving     9\n",
      "         Jaylen Brown    10\n",
      "        Julius Randle    11\n",
      "         Jrue Holiday    12\n",
      "\n",
      "Western Conference:\n",
      "                 player  rank\n",
      "           Nikola Jokić     1\n",
      "           LeBron James     2\n",
      "            Luka Dončić     3\n",
      "          Anthony Davis     4\n",
      "         Damian Lillard     5\n",
      "Shai Gilgeous-Alexander     6\n",
      "          Stephen Curry     7\n",
      "              Ja Morant     8\n",
      "           Kevin Durant     9\n",
      "           Devin Booker    10\n",
      "       Domantas Sabonis    11\n",
      "            Paul George    12\n"
     ]
    }
   ]
  }
 ]
}
